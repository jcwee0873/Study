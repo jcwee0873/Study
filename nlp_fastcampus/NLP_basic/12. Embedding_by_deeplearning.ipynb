{
 "cells": [
  {
   "cell_type": "markdown",
   "metadata": {},
   "source": [
    "## Word2Vec\n",
    "- CBOW\n",
    "- Skip-gramm\n",
    "  - 단어 x 주변 단어를 각각 예측하도록 훈련\n",
    "  - Non-linear activation functino이 없음\n",
    "  - x -> Encoder -> z(vector) -> Decoder\n",
    "  - ex. '은' '용궁' 예식장' '주례' '는' => 예식장 -> vector -> '은', '용궁', '주례', '는'\n",
    "  - sigma:1~T [ sigma:c~window log(p(wc|wt) ]\n",
    "  - p(wc|wt) = exp.s(wt, wc) / sigma:1~|V| exp.s(wt, wj)\n"
   ]
  },
  {
   "cell_type": "markdown",
   "metadata": {},
   "source": [
    "## Glove\n",
    "- Global Vectors for Word Representation\n",
    "- 단어 x와 윈도우 내에 출현한 단어들의 출현 빈도를 맞추도록 훈련\n",
    "- co-occurrence matrix를 예측하도록 훈련\n",
    "- 출현 빈도가 적은 단어에 대해서는 loss의 기여도를 낮추는 penalty 부여\n",
    "  - 출현 빈도가 적은 단어에 대해 부정확해지는 기존 단점을 보완"
   ]
  },
  {
   "cell_type": "markdown",
   "metadata": {},
   "source": [
    "## FastText\n",
    "- Upgrade Version of Skip-gram\n",
    "- 기존 저빈도 단어와 OoV에 대해 단점을 가지는 Word2Vec의 단점을 해소\n",
    "- 단어를 subword로 나누어 저빈도 단어와 OoV를 대처\n",
    "- 각 subword의 embedding vector를 구하고 이를 더해 word embedding vector를 계산"
   ]
  },
  {
   "cell_type": "markdown",
   "metadata": {},
   "source": []
  },
  {
   "cell_type": "code",
   "execution_count": 1,
   "metadata": {},
   "outputs": [
    {
     "name": "stdout",
     "output_type": "stream",
     "text": [
      "Collecting fasttext\n",
      "  Downloading fasttext-0.9.2.tar.gz (68 kB)\n",
      "     |████████████████████████████████| 68 kB 8.0 MB/s             \n",
      "\u001b[?25h  Preparing metadata (setup.py) ... \u001b[?25ldone\n",
      "\u001b[?25hCollecting pybind11>=2.2\n",
      "  Using cached pybind11-2.9.0-py2.py3-none-any.whl (210 kB)\n",
      "Requirement already satisfied: setuptools>=0.7.0 in /home/jcwee/anaconda3/envs/torch/lib/python3.7/site-packages (from fasttext) (58.0.4)\n",
      "Requirement already satisfied: numpy in /home/jcwee/anaconda3/envs/torch/lib/python3.7/site-packages (from fasttext) (1.21.5)\n",
      "Building wheels for collected packages: fasttext\n",
      "  Building wheel for fasttext (setup.py) ... \u001b[?25ldone\n",
      "\u001b[?25h  Created wheel for fasttext: filename=fasttext-0.9.2-cp37-cp37m-linux_x86_64.whl size=4744346 sha256=b81ad6061a8e790c245bb017f2481b28c4a1dcf835d7ecf1e1e7943b6d24b6dd\n",
      "  Stored in directory: /home/jcwee/.cache/pip/wheels/4e/ca/bf/b020d2be95f7641801a6597a29c8f4f19e38f9c02a345bab9b\n",
      "Successfully built fasttext\n",
      "Installing collected packages: pybind11, fasttext\n",
      "Successfully installed fasttext-0.9.2 pybind11-2.9.0\n"
     ]
    }
   ],
   "source": [
    "%pip install fasttext"
   ]
  },
  {
   "cell_type": "code",
   "execution_count": 4,
   "metadata": {},
   "outputs": [
    {
     "name": "stdout",
     "output_type": "stream",
     "text": [
      "negative\t! \n",
      "negative\t! 다 녹 아서 왓 어요 . . 짜증 \n",
      "negative\t!!!!!!!!!!!!! \n",
      "negative\t!!!! 이게 뭐 야 ? 진짜 이게 뭐 야 ? 리뷰 보고 구매 했 는데 ! 나원참 ! \n",
      "negative\t\" 싼 게 비지떡 \". 200 ml 라고 판매 하 는데 내 가 보 기 엔 절대 이거 100 ml 도 안 된다 . 뚜껑 열 다가 손톱 부러지 고 , 향기 는 에프 킬 라 . . 구매 후기 잘 안 쓰 는데 이건 진짜 최악 이 다 . \n",
      "negative\t\" 축 결혼 \" 이 라는 리본 도 없 고 화환 하나 에 두 사람 이름 만 있 는 걸 보 니까 화 가 났 습니다 . 근처 에 화환 몇 개 놓 을 자리 도 있 었 는데 ? \n",
      "negative\t\" 가죽 검정 \" 이 라는 상품명 에서 누구 나 알 수 있 듯 인조 가죽 느낌 의 재질 입니다 . 비닐 에 가까운 재질 이 라 진짜 인조 가 죽이 라도 저렴 한 소재 일 것 같 습니다 . 이 가격 에 사 는 사람 은 소재 에 대한 기대 는 없 을 테 지만 참고 하 시 기 바랍니다 . 패드 뒷 면 은 전면 이 양면 테이프 로 부착 되 어 있 으며 그대로 신발 에 접착 시키 는 방식 입니다 . 하지만 양면 테이프 가 강해 보이 지 않 습니다 . 신발 이 조금 만 고급 이 라도 주문 하 지 마세요 . 패드 야 며칠 못 쓰 고 떨어지 는 건 참 을 수 있 지만 신발 안감 이 상할 것 같 은 느낌 의 양면 테이프 입니다 . 일단 부착 후 3 일 간 은 신지 않 을 예정 이 며 매일 신 는 신발 도 아니 기에 생각 보다 오래 쓸 수 도 있 겠 지만 다시 구매 할 생각 은 없 습니다 . \n",
      "negative\t\" 루피 아니 야 \" 우리 아이 말 이 에요 ㅠㅠ 루피 좋 아 하 는 우리 아이 , 항상 껴안 고 다녀 많이 헤졌 어요 . 그래서 최저 가 판매처 에서 두 개 더 구매 했 는데 기존 에 샀 던 두 개 랑 은 다른 디자인 이 네요 . 얼굴 은 이쁘 지만 , 전체 적 으로 별로 인걸요 ? 왜 이리 뚱뚱 하 고 앉 아 있 는지 . .. 몸 을 안 아야 하 는 데 앉 아 있 으니 안 고 다니 기 불편 해요 . 그냥 전 시용 인가 봐요 . 우리 애 는 새로 산 루피 는 그냥 던져 버리 고 , 때 타 고 찢어지 고 다 헤진 예전 루피 만 갖 고 노 네요 . 미미 월드 라고 적혀 는 있 어요 . 판매처 엔 3 기 라고 적혀 있 긴 한데 , 다른 판매자 들 3 기 상품 이랑 도 다른 모양 이 라 다 들 정품 인지 도 의심 스럽 네요 . \n",
      "negative\t\" 비싸 ~~~~ 요 \" 라고 후기 를 남기 네요 \n",
      "negative\t\" 화이트 \" 로 구매 했 는데 . .. 왜 다른 제품 으로 오 죠 ? 외국 에서 배송 받 지 않 았 다면 . .. 당장 반품 인데 ~~~ \n"
     ]
    }
   ],
   "source": [
    "!head ./review.sorted.uniq.refined.tok.tsv"
   ]
  },
  {
   "cell_type": "code",
   "execution_count": 5,
   "metadata": {},
   "outputs": [
    {
     "name": "stdout",
     "output_type": "stream",
     "text": [
      "/bin/bash: fasttext: 명령어를 찾을 수 없음\n"
     ]
    }
   ],
   "source": [
    "!fasttext skipgram -input ./review.sorted.uniq.refined.tok.tsv"
   ]
  },
  {
   "cell_type": "code",
   "execution_count": 7,
   "metadata": {},
   "outputs": [
    {
     "name": "stdout",
     "output_type": "stream",
     "text": [
      "Package             Version\n",
      "------------------- --------------\n",
      "anyio               2.2.0\n",
      "argcomplete         1.12.3\n",
      "argon2-cffi         20.1.0\n",
      "async-generator     1.10\n",
      "attrs               21.4.0\n",
      "Babel               2.9.1\n",
      "backcall            0.2.0\n",
      "bleach              4.1.0\n",
      "brotlipy            0.7.0\n",
      "certifi             2021.10.8\n",
      "cffi                1.15.0\n",
      "charset-normalizer  2.0.4\n",
      "click               8.0.3\n",
      "cryptography        36.0.0\n",
      "cycler              0.11.0\n",
      "debugpy             1.5.1\n",
      "decorator           5.1.0\n",
      "defusedxml          0.7.1\n",
      "entrypoints         0.3\n",
      "fasttext            0.9.2\n",
      "fonttools           4.29.0\n",
      "idna                3.3\n",
      "importlib-metadata  4.8.2\n",
      "ipykernel           6.4.1\n",
      "ipython             7.29.0\n",
      "ipython-genutils    0.2.0\n",
      "jedi                0.18.1\n",
      "Jinja2              3.0.2\n",
      "joblib              1.1.0\n",
      "JPype1              1.3.0\n",
      "json5               0.9.6\n",
      "jsonschema          3.2.0\n",
      "jupyter-client      7.1.0\n",
      "jupyter-core        4.9.1\n",
      "jupyter-server      1.4.1\n",
      "jupyterlab          3.2.1\n",
      "jupyterlab-pygments 0.1.2\n",
      "jupyterlab-server   2.10.2\n",
      "kiwisolver          1.3.2\n",
      "konlpy              0.6.0\n",
      "lxml                4.7.1\n",
      "MarkupSafe          2.0.1\n",
      "matplotlib          3.5.1\n",
      "matplotlib-inline   0.1.2\n",
      "mecab-python        0.996-ko-0.9.2\n",
      "mistune             0.8.4\n",
      "mkl-fft             1.3.1\n",
      "mkl-random          1.2.2\n",
      "mkl-service         2.4.0\n",
      "nbclassic           0.2.6\n",
      "nbclient            0.5.3\n",
      "nbconvert           6.3.0\n",
      "nbformat            5.1.3\n",
      "nest-asyncio        1.5.1\n",
      "nltk                3.6.7\n",
      "notebook            6.4.6\n",
      "numpy               1.21.5\n",
      "olefile             0.46\n",
      "packaging           21.3\n",
      "pandas              1.1.5\n",
      "pandocfilters       1.4.3\n",
      "parso               0.8.3\n",
      "pexpect             4.8.0\n",
      "pickleshare         0.7.5\n",
      "Pillow              8.4.0\n",
      "pip                 21.3.1\n",
      "prometheus-client   0.12.0\n",
      "prompt-toolkit      3.0.20\n",
      "ptyprocess          0.7.0\n",
      "pybind11            2.9.0\n",
      "pycparser           2.21\n",
      "Pygments            2.10.0\n",
      "pyOpenSSL           21.0.0\n",
      "pyparsing           3.0.4\n",
      "pyrsistent          0.18.0\n",
      "PySocks             1.7.1\n",
      "python-dateutil     2.8.2\n",
      "pytz                2021.3\n",
      "pyzmq               22.3.0\n",
      "regex               2022.1.18\n",
      "requests            2.27.1\n",
      "scikit-learn        1.0.2\n",
      "scipy               1.7.3\n",
      "seaborn             0.11.2\n",
      "Send2Trash          1.8.0\n",
      "setuptools          58.0.4\n",
      "six                 1.16.0\n",
      "sniffio             1.2.0\n",
      "terminado           0.9.4\n",
      "testpath            0.5.0\n",
      "threadpoolctl       3.0.0\n",
      "torch               1.10.1\n",
      "torchaudio          0.10.1\n",
      "torchtext           0.11.1\n",
      "torchvision         0.11.2\n",
      "tornado             6.1\n",
      "tqdm                4.62.3\n",
      "traitlets           5.1.1\n",
      "typing_extensions   4.0.1\n",
      "urllib3             1.26.7\n",
      "wcwidth             0.2.5\n",
      "webencodings        0.5.1\n",
      "wheel               0.37.1\n",
      "zipp                3.7.0\n",
      "Note: you may need to restart the kernel to use updated packages.\n"
     ]
    }
   ],
   "source": [
    "%pip list"
   ]
  },
  {
   "cell_type": "markdown",
   "metadata": {},
   "source": []
  },
  {
   "cell_type": "code",
   "execution_count": null,
   "metadata": {},
   "outputs": [],
   "source": []
  }
 ],
 "metadata": {
  "interpreter": {
   "hash": "452df0821433779ea0d62ff49f1a7cc03808e7ef127810619f5ecf0887789e09"
  },
  "kernelspec": {
   "display_name": "Python 3.7.0 64-bit ('torch': conda)",
   "language": "python",
   "name": "python3"
  },
  "language_info": {
   "codemirror_mode": {
    "name": "ipython",
    "version": 3
   },
   "file_extension": ".py",
   "mimetype": "text/x-python",
   "name": "python",
   "nbconvert_exporter": "python",
   "pygments_lexer": "ipython3",
   "version": "3.7.0"
  },
  "orig_nbformat": 4
 },
 "nbformat": 4,
 "nbformat_minor": 2
}
