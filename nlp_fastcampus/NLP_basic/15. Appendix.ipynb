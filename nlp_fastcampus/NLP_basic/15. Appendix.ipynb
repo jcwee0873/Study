{
 "cells": [
  {
   "cell_type": "markdown",
   "metadata": {},
   "source": [
    "## BERT\n",
    "- Bi-directional Sequential Modeling\n",
    "- \"Self-supervised\"\n",
    "- 문장의 특징을 배우도록 한 뒤, downstream task에 tuning\n",
    "- Masked Language Models (MLM)  \n",
    "  - ex. What is BERT? -> What \\<MASK\\> BERT -> is?\n",
    "  - scratch 보다는 낫다 예상  \n",
    "  \n",
    "- Next Sentence Prediction (NSP)\n",
    "  - 다음에 나올 문장을 예측  \n",
    "\n",
    "\n",
    "- Kor: KoBERT by SKTBrain\n",
    "- Eng: Hugging Face"
   ]
  },
  {
   "cell_type": "markdown",
   "metadata": {},
   "source": []
  }
 ],
 "metadata": {
  "language_info": {
   "name": "python"
  },
  "orig_nbformat": 4
 },
 "nbformat": 4,
 "nbformat_minor": 2
}
